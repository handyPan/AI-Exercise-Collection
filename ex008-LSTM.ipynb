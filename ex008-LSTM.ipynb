{
 "cells": [
  {
   "cell_type": "code",
   "execution_count": null,
   "metadata": {
    "colab": {
     "base_uri": "https://localhost:8080/"
    },
    "id": "_5lbzdgQdiSJ",
    "outputId": "d1e4d1ab-35e2-4498-c070-d4c5b2e5a721"
   },
   "outputs": [
    {
     "name": "stdout",
     "output_type": "stream",
     "text": [
      "Mounted at /content/drive\n"
     ]
    }
   ],
   "source": [
    "from google.colab import drive\n",
    "drive.mount('/content/drive')"
   ]
  },
  {
   "cell_type": "markdown",
   "metadata": {
    "id": "OT5qc6iorl1f"
   },
   "source": [
    "# Part 2 Time Series Prediction with LSTM"
   ]
  },
  {
   "cell_type": "code",
   "execution_count": null,
   "metadata": {
    "id": "g91z5LAZrn8L"
   },
   "outputs": [],
   "source": [
    "# Author: Xiaopeng Pan\n",
    "# ID: 1129446\n",
    "# Purpose: Assignment 4 Part 2\n",
    "# Date: Apr 5, 2021\n",
    "\n",
    "# import basic packages\n",
    "\n",
    "import numpy as np\n",
    "import pandas as pd\n",
    "import matplotlib.pyplot as plt\n",
    "from datetime import datetime\n",
    "\n",
    "from tensorflow.keras.models import Model, load_model, Sequential\n",
    "from tensorflow.keras.layers import Dense, LSTM\n",
    "from tensorflow.keras.callbacks import EarlyStopping\n",
    "\n",
    "from sklearn.preprocessing import MinMaxScaler\n",
    "from sklearn import metrics\n"
   ]
  },
  {
   "cell_type": "code",
   "execution_count": null,
   "metadata": {
    "colab": {
     "base_uri": "https://localhost:8080/"
    },
    "id": "XYWjBpwKsgL0",
    "outputId": "df45dc3e-7b59-422c-c580-16436c59407b"
   },
   "outputs": [
    {
     "name": "stdout",
     "output_type": "stream",
     "text": [
      "The first 5 records:\n",
      "    SNo ObservationDate Province/State  ... Confirmed Deaths  Recovered\n",
      "0    1      01/22/2020          Anhui  ...       1.0    0.0        0.0\n",
      "1    2      01/22/2020        Beijing  ...      14.0    0.0        0.0\n",
      "2    3      01/22/2020      Chongqing  ...       6.0    0.0        0.0\n",
      "3    4      01/22/2020         Fujian  ...       1.0    0.0        0.0\n",
      "4    5      01/22/2020          Gansu  ...       0.0    0.0        0.0\n",
      "\n",
      "[5 rows x 8 columns]\n",
      "The last 5 records:\n",
      "            SNo ObservationDate     Province/State  ... Confirmed  Deaths  Recovered\n",
      "236012  236013      02/27/2021  Zaporizhia Oblast  ...   69504.0  1132.0    65049.0\n",
      "236013  236014      02/27/2021            Zeeland  ...   16480.0   178.0        0.0\n",
      "236014  236015      02/27/2021           Zhejiang  ...    1321.0     1.0     1314.0\n",
      "236015  236016      02/27/2021    Zhytomyr Oblast  ...   50582.0   834.0    44309.0\n",
      "236016  236017      02/27/2021       Zuid-Holland  ...  255335.0  3732.0        0.0\n",
      "\n",
      "[5 rows x 8 columns]\n",
      "After selecting country,\n",
      "The first 5 records:\n",
      "   ObservationDate  Country/Region  Confirmed\n",
      "0      01/22/2020  Mainland China        1.0\n",
      "1      01/22/2020  Mainland China       14.0\n",
      "2      01/22/2020  Mainland China        6.0\n",
      "3      01/22/2020  Mainland China        1.0\n",
      "4      01/22/2020  Mainland China        0.0\n",
      "The last 5 records:\n",
      "        ObservationDate  Country/Region  Confirmed\n",
      "235928      02/27/2021  Mainland China        1.0\n",
      "235956      02/27/2021  Mainland China        0.0\n",
      "236000      02/27/2021  Mainland China      980.0\n",
      "236008      02/27/2021  Mainland China      233.0\n",
      "236014      02/27/2021  Mainland China     1321.0\n",
      "After summing by date,\n",
      "The first 5 records:\n",
      "                  Confirmed\n",
      "ObservationDate           \n",
      "2020-01-22           547.0\n",
      "2020-01-23          1082.0\n",
      "2020-01-24           916.0\n",
      "2020-01-25          1399.0\n",
      "2020-01-26          2062.0\n",
      "The last 5 records:\n",
      "                  Confirmed\n",
      "ObservationDate           \n",
      "2021-02-23         89864.0\n",
      "2021-02-24         89871.0\n",
      "2021-02-25         89877.0\n",
      "2021-02-26         89887.0\n",
      "2021-02-27         89893.0\n",
      "The observation dates are: ['2020-01-22', '2020-01-23', '2020-01-24', '2020-01-25', '2020-01-26', '2020-01-27', '2020-01-28', '2020-01-29', '2020-01-30', '2020-01-31', '2020-02-01', '2020-02-02', '2020-02-03', '2020-02-04', '2020-02-05', '2020-02-06', '2020-02-07', '2020-02-08', '2020-02-09', '2020-02-10', '2020-02-11', '2020-02-12', '2020-02-13', '2020-02-14', '2020-02-15', '2020-02-16', '2020-02-17', '2020-02-18', '2020-02-19', '2020-02-20', '2020-02-21', '2020-02-22', '2020-02-23', '2020-02-24', '2020-02-25', '2020-02-26', '2020-02-27', '2020-02-28', '2020-02-29', '2020-03-01', '2020-03-02', '2020-03-03', '2020-03-04', '2020-03-05', '2020-03-06', '2020-03-07', '2020-03-08', '2020-03-09', '2020-03-10', '2020-03-11', '2020-03-12', '2020-03-13', '2020-03-14', '2020-03-15', '2020-03-16', '2020-03-17', '2020-03-18', '2020-03-19', '2020-03-20', '2020-03-21', '2020-03-22', '2020-03-23', '2020-03-24', '2020-03-25', '2020-03-26', '2020-03-27', '2020-03-28', '2020-03-29', '2020-03-30', '2020-03-31', '2020-04-01', '2020-04-02', '2020-04-03', '2020-04-04', '2020-04-05', '2020-04-06', '2020-04-07', '2020-04-08', '2020-04-09', '2020-04-10', '2020-04-11', '2020-04-12', '2020-04-13', '2020-04-14', '2020-04-15', '2020-04-16', '2020-04-17', '2020-04-18', '2020-04-19', '2020-04-20', '2020-04-21', '2020-04-22', '2020-04-23', '2020-04-24', '2020-04-25', '2020-04-26', '2020-04-27', '2020-04-28', '2020-04-29', '2020-04-30', '2020-05-01', '2020-05-02', '2020-05-03', '2020-05-04', '2020-05-05', '2020-05-06', '2020-05-07', '2020-05-08', '2020-05-09', '2020-05-10', '2020-05-11', '2020-05-12', '2020-05-13', '2020-05-14', '2020-05-15', '2020-05-16', '2020-05-17', '2020-05-18', '2020-05-19', '2020-05-20', '2020-05-21', '2020-05-22', '2020-05-23', '2020-05-24', '2020-05-25', '2020-05-26', '2020-05-27', '2020-05-28', '2020-05-29', '2020-05-30', '2020-05-31', '2020-06-01', '2020-06-02', '2020-06-03', '2020-06-04', '2020-06-05', '2020-06-06', '2020-06-07', '2020-06-08', '2020-06-09', '2020-06-10', '2020-06-11', '2020-06-12', '2020-06-13', '2020-06-14', '2020-06-15', '2020-06-16', '2020-06-17', '2020-06-18', '2020-06-19', '2020-06-20', '2020-06-21', '2020-06-22', '2020-06-23', '2020-06-24', '2020-06-25', '2020-06-26', '2020-06-27', '2020-06-28', '2020-06-29', '2020-06-30', '2020-07-01', '2020-07-02', '2020-07-03', '2020-07-04', '2020-07-05', '2020-07-06', '2020-07-07', '2020-07-08', '2020-07-09', '2020-07-10', '2020-07-11', '2020-07-12', '2020-07-13', '2020-07-14', '2020-07-15', '2020-07-16', '2020-07-17', '2020-07-18', '2020-07-19', '2020-07-20', '2020-07-21', '2020-07-22', '2020-07-23', '2020-07-24', '2020-07-25', '2020-07-26', '2020-07-27', '2020-07-28', '2020-07-29', '2020-07-30', '2020-07-31', '2020-08-01', '2020-08-02', '2020-08-03', '2020-08-04', '2020-08-05', '2020-08-06', '2020-08-07', '2020-08-08', '2020-08-09', '2020-08-10', '2020-08-11', '2020-08-12', '2020-08-13', '2020-08-14', '2020-08-15', '2020-08-16', '2020-08-17', '2020-08-18', '2020-08-19', '2020-08-20', '2020-08-21', '2020-08-22', '2020-08-23', '2020-08-24', '2020-08-25', '2020-08-26', '2020-08-27', '2020-08-28', '2020-08-29', '2020-08-30', '2020-08-31', '2020-09-01', '2020-09-02', '2020-09-03', '2020-09-04', '2020-09-05', '2020-09-06', '2020-09-07', '2020-09-08', '2020-09-09', '2020-09-10', '2020-09-11', '2020-09-12', '2020-09-13', '2020-09-14', '2020-09-15', '2020-09-16', '2020-09-17', '2020-09-18', '2020-09-19', '2020-09-20', '2020-09-21', '2020-09-22', '2020-09-23', '2020-09-24', '2020-09-25', '2020-09-26', '2020-09-27', '2020-09-28', '2020-09-29', '2020-09-30', '2020-10-01', '2020-10-02', '2020-10-03', '2020-10-04', '2020-10-05', '2020-10-06', '2020-10-07', '2020-10-08', '2020-10-09', '2020-10-10', '2020-10-11', '2020-10-12', '2020-10-13', '2020-10-14', '2020-10-15', '2020-10-16', '2020-10-17', '2020-10-18', '2020-10-19', '2020-10-20', '2020-10-21', '2020-10-22', '2020-10-23', '2020-10-24', '2020-10-25', '2020-10-26', '2020-10-27', '2020-10-28', '2020-10-29', '2020-10-30', '2020-10-31', '2020-11-01', '2020-11-02', '2020-11-03', '2020-11-04', '2020-11-05', '2020-11-06', '2020-11-07', '2020-11-08', '2020-11-09', '2020-11-10', '2020-11-11', '2020-11-12', '2020-11-13', '2020-11-14', '2020-11-15', '2020-11-16', '2020-11-17', '2020-11-18', '2020-11-19', '2020-11-20', '2020-11-21', '2020-11-22', '2020-11-23', '2020-11-24', '2020-11-25', '2020-11-26', '2020-11-27', '2020-11-28', '2020-11-29', '2020-11-30', '2020-12-01', '2020-12-02', '2020-12-03', '2020-12-04', '2020-12-05', '2020-12-06', '2020-12-07', '2020-12-08', '2020-12-09', '2020-12-10', '2020-12-11', '2020-12-12', '2020-12-13', '2020-12-14', '2020-12-15', '2020-12-16', '2020-12-17', '2020-12-18', '2020-12-19', '2020-12-20', '2020-12-21', '2020-12-22', '2020-12-23', '2020-12-24', '2020-12-25', '2020-12-26', '2020-12-27', '2020-12-28', '2020-12-29', '2020-12-30', '2020-12-31', '2021-01-01', '2021-01-02', '2021-01-03', '2021-01-04', '2021-01-05', '2021-01-06', '2021-01-07', '2021-01-08', '2021-01-09', '2021-01-10', '2021-01-11', '2021-01-12', '2021-01-13', '2021-01-14', '2021-01-15', '2021-01-16', '2021-01-17', '2021-01-18', '2021-01-19', '2021-01-20', '2021-01-21', '2021-01-22', '2021-01-23', '2021-01-24', '2021-01-25', '2021-01-26', '2021-01-27', '2021-01-28', '2021-01-29', '2021-01-30', '2021-01-31', '2021-02-01', '2021-02-02', '2021-02-03', '2021-02-04', '2021-02-05', '2021-02-06', '2021-02-07', '2021-02-08', '2021-02-09', '2021-02-10', '2021-02-11', '2021-02-12', '2021-02-13', '2021-02-14', '2021-02-15', '2021-02-16', '2021-02-17', '2021-02-18', '2021-02-19', '2021-02-20', '2021-02-21', '2021-02-22', '2021-02-23', '2021-02-24', '2021-02-25', '2021-02-26', '2021-02-27']\n",
      "After Normalization,\n",
      "The first 5 records:\n",
      " [[0.        ]\n",
      " [0.00598796]\n",
      " [0.00413001]\n",
      " [0.00953596]\n",
      " [0.01695655]]\n",
      "The last 5 records:\n",
      " [[0.99967542]\n",
      " [0.99975377]\n",
      " [0.99982092]\n",
      " [0.99993285]\n",
      " [1.        ]]\n"
     ]
    }
   ],
   "source": [
    "# load dataset\n",
    "dataset = pd.read_csv('/content/drive/MyDrive/Colab Notebooks/data/dl_a4_dataset/covid_19_data.csv')\n",
    "print(\"The first 5 records:\\n\",dataset[0:5])\n",
    "print(\"The last 5 records:\\n\",dataset[-5:])\n",
    "\n",
    "# only to select some columns and rows\n",
    "column_to_keep=['ObservationDate','Country/Region','Confirmed']\n",
    "dataset_df = dataset[column_to_keep]\n",
    "row_to_keep=(dataset_df['Country/Region']=='Mainland China')\n",
    "dataset_df = dataset_df[row_to_keep]\n",
    " \n",
    "print(\"After selecting country,\")\n",
    "print(\"The first 5 records:\\n\",dataset_df[0:5])\n",
    "print(\"The last 5 records:\\n\",dataset_df[-5:])\n",
    "\n",
    "# generate a new dataset with sum of each day\n",
    "dataset_df_2 = dataset_df.groupby('ObservationDate').agg('sum')\n",
    "dataset_df_2.index = pd.to_datetime(dataset_df_2.index).strftime('%Y-%m-%d')\n",
    "dataset_df_2 = dataset_df_2.sort_index(ascending=True)\n",
    "print(\"After summing by date,\")\n",
    "print(\"The first 5 records:\\n\",dataset_df_2[0:5])\n",
    "print(\"The last 5 records:\\n\",dataset_df_2[-5:])\n",
    "\n",
    "observation_date = dataset_df_2.index.tolist()\n",
    "print(\"The observation dates are:\", observation_date)\n",
    "dataset_df_3 = dataset_df_2.values\n",
    "\n",
    "# normalize the dataset\n",
    "scaler = MinMaxScaler(feature_range=(0, 1))\n",
    "dataset_df_3 = scaler.fit_transform(dataset_df_3)\n",
    "print(\"After Normalization,\")\n",
    "print(\"The first 5 records:\\n\",dataset_df_3[0:5])\n",
    "print(\"The last 5 records:\\n\",dataset_df_3[-5:])"
   ]
  },
  {
   "cell_type": "code",
   "execution_count": null,
   "metadata": {
    "colab": {
     "base_uri": "https://localhost:8080/"
    },
    "id": "xxwQobGhaWST",
    "outputId": "f591b8cd-de85-493a-d0ce-fc3eafeb120f"
   },
   "outputs": [
    {
     "name": "stdout",
     "output_type": "stream",
     "text": [
      "The dataset sizes are: X_tr (281, 1, 1) y_tr (281, 1) X_te (120, 1, 1) y_te (120, 1)\n",
      "The first 5 sequences of X_tr are:\n",
      " [[[0.        ]]\n",
      "\n",
      " [[0.00598796]]\n",
      "\n",
      " [[0.00413001]]\n",
      "\n",
      " [[0.00953596]]\n",
      "\n",
      " [[0.01695655]]]\n",
      "The first 5 targets   of y_tr are:\n",
      " [[0.00598796]\n",
      " [0.00413001]\n",
      " [0.00953596]\n",
      " [0.01695655]\n",
      " [0.0259217 ]]\n"
     ]
    }
   ],
   "source": [
    "# split the train and test sets\n",
    "train_ratio = 0.7\n",
    "dataset_df_3_tr = dataset_df_3[:int(len(dataset_df_3)*train_ratio)]\n",
    "dataset_df_3_te = dataset_df_3[int(len(dataset_df_3)*train_ratio):]\n",
    "\n",
    "# create the train and test sequences using the column 'Confirmed'\n",
    "time_seq_len = 1    # the length of the time sequences\n",
    "\n",
    "X_tr, y_tr, X_te, y_te = [], [], [], []\n",
    "for i in range(len(dataset_df_3_tr)-time_seq_len):\n",
    "  X_tr.append(dataset_df_3_tr[i:i+time_seq_len])\n",
    "  y_tr.append(dataset_df_3_tr[i+time_seq_len])\n",
    "X_tr = np.array(X_tr)\n",
    "y_tr = np.array(y_tr)\n",
    "for i in range(len(dataset_df_3_te)-time_seq_len):\n",
    "  X_te.append(dataset_df_3_te[i:i+time_seq_len])\n",
    "  y_te.append(dataset_df_3_te[i+time_seq_len])\n",
    "X_te = np.array(X_te)\n",
    "y_te = np.array(y_te)\n",
    "\n",
    "print(\"The dataset sizes are: X_tr {} y_tr {} X_te {} y_te {}\".format(X_tr.shape, y_tr.shape, X_te.shape, y_te.shape))\n",
    "print(\"The first 5 sequences of X_tr are:\\n\",X_tr[:5])\n",
    "print(\"The first 5 targets   of y_tr are:\\n\",y_tr[:5])"
   ]
  },
  {
   "cell_type": "code",
   "execution_count": null,
   "metadata": {
    "colab": {
     "base_uri": "https://localhost:8080/",
     "height": 635
    },
    "id": "K9aQW0pdaZsk",
    "outputId": "c5780c38-9dd5-49db-d494-4cd46c944c6a"
   },
   "outputs": [
    {
     "name": "stdout",
     "output_type": "stream",
     "text": [
      "Epoch 1/10\n",
      "281/281 - 2s - loss: 0.2234 - val_loss: 0.0015\n",
      "Epoch 2/10\n",
      "281/281 - 1s - loss: 0.0084 - val_loss: 0.0013\n",
      "Epoch 3/10\n",
      "281/281 - 1s - loss: 0.0067 - val_loss: 3.7538e-04\n",
      "Epoch 4/10\n",
      "281/281 - 1s - loss: 0.0051 - val_loss: 6.7428e-04\n",
      "Epoch 5/10\n",
      "281/281 - 1s - loss: 0.0035 - val_loss: 4.5711e-04\n",
      "Epoch 6/10\n",
      "281/281 - 1s - loss: 0.0022 - val_loss: 7.2809e-05\n",
      "Epoch 7/10\n",
      "281/281 - 1s - loss: 0.0013 - val_loss: 3.9087e-05\n",
      "Epoch 8/10\n",
      "281/281 - 1s - loss: 7.1100e-04 - val_loss: 6.9006e-06\n",
      "Epoch 9/10\n",
      "281/281 - 1s - loss: 4.1805e-04 - val_loss: 3.8408e-06\n",
      "Epoch 10/10\n",
      "281/281 - 1s - loss: 3.1230e-04 - val_loss: 4.2039e-06\n"
     ]
    },
    {
     "data": {
      "image/png": "[encoded data removed]",
      "text/plain": [
       "<Figure size 432x288 with 1 Axes>"
      ]
     },
     "metadata": {
      "needs_background": "light",
      "tags": []
     },
     "output_type": "display_data"
    }
   ],
   "source": [
    "# create and fit the LSTM network\n",
    "model = Sequential()\n",
    "model.add(LSTM(16, input_shape=(None,1)))\n",
    "model.add(Dense(1))\n",
    "model.compile(loss='mean_squared_error', optimizer='adam')\n",
    "# monitor = EarlyStopping(monitor='val_loss', min_delta=1e-3, patience=5, \n",
    "#                         verbose=1, mode='auto', restore_best_weights=True)\n",
    "\n",
    "history = model.fit(X_tr, y_tr, epochs=10, batch_size=1, validation_data=(X_te, y_te), verbose=2)\n",
    "\n",
    "# save the model\n",
    "model.save(\"/content/drive/MyDrive/Colab Notebooks/data/dl_a4_dataset/dl_a4_model_q2.h5\")\n",
    "\n",
    "# plot trainiing history\n",
    "plt.plot(history.history['loss'], label='train')\n",
    "plt.plot(history.history['val_loss'], label='test')\n",
    "plt.title(\"Training history\")\n",
    "plt.xlabel(\"epoch\")\n",
    "plt.ylabel(\"loss\")\n",
    "plt.legend()\n",
    "plt.show()"
   ]
  },
  {
   "cell_type": "code",
   "execution_count": null,
   "metadata": {
    "colab": {
     "base_uri": "https://localhost:8080/",
     "height": 607
    },
    "id": "7rSgdvusadeh",
    "outputId": "772b51e4-997c-460e-9e81-5fc36272d7e3"
   },
   "outputs": [
    {
     "name": "stdout",
     "output_type": "stream",
     "text": [
      "RMSE for training set: 0.01638577259351742\n",
      "RMSE for testing  set: 0.0020503458640222733\n"
     ]
    },
    {
     "data": {
      "image/png": "[encoded data removed]",
      "text/plain": [
       "<Figure size 432x288 with 1 Axes>"
      ]
     },
     "metadata": {
      "needs_background": "light",
      "tags": []
     },
     "output_type": "display_data"
    },
    {
     "data": {
      "image/png": "[encoded data removed]",
      "text/plain": [
       "<Figure size 432x288 with 1 Axes>"
      ]
     },
     "metadata": {
      "needs_background": "light",
      "tags": []
     },
     "output_type": "display_data"
    }
   ],
   "source": [
    "# load the model and predict the results\n",
    "model = load_model(\"/content/drive/MyDrive/Colab Notebooks/data/dl_a4_dataset/dl_a4_model_q2.h5\")\n",
    "pred_tr = model.predict(X_tr)\n",
    "pred_te = model.predict(X_te)\n",
    "\n",
    "# calculate the error\n",
    "score_tr = np.sqrt(metrics.mean_squared_error(pred_tr,y_tr))\n",
    "print(\"RMSE for training set: {}\".format(score_tr))\n",
    "score_te = np.sqrt(metrics.mean_squared_error(pred_te,y_te))\n",
    "print(\"RMSE for testing  set: {}\".format(score_te))\n",
    "\n",
    "# restore to original scale\n",
    "pred_tr_restored = scaler.inverse_transform(pred_tr)\n",
    "y_tr_restored = scaler.inverse_transform(y_tr)\n",
    "pred_te_restored = scaler.inverse_transform(pred_te)\n",
    "y_te_restored = scaler.inverse_transform(y_te)\n",
    "\n",
    "# plot the results\n",
    "plt.plot(y_tr_restored)\n",
    "plt.plot(pred_tr_restored)\n",
    "plt.xlabel('Day')\n",
    "plt.ylabel('Confirmed')\n",
    "plt.title('Performance test for training set')\n",
    "plt.show()\n",
    "plt.plot(y_te_restored)\n",
    "plt.plot(pred_te_restored)\n",
    "plt.xlabel('Day')\n",
    "plt.ylabel('Confirmed')\n",
    "plt.title('Performance test for testing set')\n",
    "plt.show()\n"
   ]
  }
 ],
 "metadata": {
  "accelerator": "GPU",
  "colab": {
   "collapsed_sections": [],
   "name": "COMP5421_assignment4_5.ipynb",
   "provenance": [],
   "toc_visible": true
  },
  "kernelspec": {
   "display_name": "Python 3",
   "language": "python",
   "name": "python3"
  },
  "language_info": {
   "codemirror_mode": {
    "name": "ipython",
    "version": 3
   },
   "file_extension": ".py",
   "mimetype": "text/x-python",
   "name": "python",
   "nbconvert_exporter": "python",
   "pygments_lexer": "ipython3",
   "version": "3.7.6"
  },
  "toc": {
   "base_numbering": 1,
   "nav_menu": {},
   "number_sections": true,
   "sideBar": true,
   "skip_h1_title": false,
   "title_cell": "Table of Contents",
   "title_sidebar": "Contents",
   "toc_cell": false,
   "toc_position": {},
   "toc_section_display": true,
   "toc_window_display": false
  }
 },
 "nbformat": 4,
 "nbformat_minor": 1
}
